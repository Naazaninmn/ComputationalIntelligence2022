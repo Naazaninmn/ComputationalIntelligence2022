{
 "cells": [
  {
   "cell_type": "code",
   "execution_count": 1,
   "metadata": {},
   "outputs": [],
   "source": [
    "import logging\n",
    "from collections import namedtuple\n",
    "import random"
   ]
  },
  {
   "cell_type": "code",
   "execution_count": 2,
   "metadata": {},
   "outputs": [],
   "source": [
    "PROBLEM_SIZE = 5\n",
    "#First I tried OFFSPRING_SIZE = 30 and NUM_GENERATIONS = 50 for N = 5 but then because the \n",
    "# fitness values at the end were wrong, I set OFFSPRING_SIZE to 10 and NUM_GENERATIONS to 5\n",
    "#for debugging purpose\n",
    "OFFSPRING_SIZE = 10\n",
    "NUM_GENERATIONS = 5"
   ]
  },
  {
   "cell_type": "markdown",
   "metadata": {},
   "source": [
    "Problem instances generator"
   ]
  },
  {
   "cell_type": "code",
   "execution_count": 3,
   "metadata": {},
   "outputs": [],
   "source": [
    "def problem(N, seed=None):\n",
    "    \"\"\"Creates an instance of the problem\"\"\"\n",
    "    state = random.getstate()\n",
    "    random.seed(seed)\n",
    "    p = [\n",
    "        list(set(random.randint(0, N - 1) for n in range(random.randint(N // 5, N // 2))))\n",
    "        for n in range(random.randint(N, N * 5))\n",
    "    ]\n",
    "    random.setstate(state)\n",
    "    return p"
   ]
  },
  {
   "cell_type": "code",
   "execution_count": 4,
   "metadata": {},
   "outputs": [],
   "source": [
    "Individual = namedtuple(\"Individual\", [\"genome\", \"fitness\"])\n",
    "\n",
    "#fitness function\n",
    "def covering(genome):\n",
    "    numOfElements = 0\n",
    "    covered = list()\n",
    "    for G in genome:\n",
    "        numOfElements += len(G)\n",
    "        for g in G:\n",
    "            if(g not in covered):\n",
    "                covered.append(g)\n",
    "    return len(covered)/numOfElements"
   ]
  },
  {
   "cell_type": "markdown",
   "metadata": {},
   "source": [
    "Genetic Algorithm"
   ]
  },
  {
   "cell_type": "code",
   "execution_count": 5,
   "metadata": {},
   "outputs": [],
   "source": [
    "logging.getLogger().setLevel(logging.INFO)"
   ]
  },
  {
   "cell_type": "markdown",
   "metadata": {},
   "source": [
    "Initial Population"
   ]
  },
  {
   "cell_type": "code",
   "execution_count": 6,
   "metadata": {},
   "outputs": [
    {
     "name": "stderr",
     "output_type": "stream",
     "text": [
      "INFO:root:init: pop_size=25; max=1.0\n"
     ]
    }
   ],
   "source": [
    "population = list()\n",
    "lists = list()\n",
    "for genome in tuple(problem(PROBLEM_SIZE, 42)):\n",
    "    population.append(Individual([genome], covering([genome])))\n",
    "    lists.append(genome)\n",
    "    \n",
    "POPULATION_SIZE = len(population)\n",
    "\n",
    "logging.info(f\"init: pop_size={POPULATION_SIZE}; max={max(population, key=lambda i: i.fitness)[1]}\")"
   ]
  },
  {
   "cell_type": "code",
   "execution_count": 7,
   "metadata": {},
   "outputs": [],
   "source": [
    "def tournament(population, tournament_size=2):\n",
    "    return max(random.choices(population, k=tournament_size), key=lambda i: i.fitness)\n",
    "\n",
    "\n",
    "def cross_over(g1, g2):\n",
    "    for g in g2:\n",
    "        if(g not in g1):\n",
    "            g1.append(g)\n",
    "            break\n",
    "    for g in g1:\n",
    "        if(g not in g2):\n",
    "            g1.remove(g)\n",
    "            break\n",
    "    return g1\n",
    "\n",
    "\n",
    "def mutation(genome):\n",
    "    point = random.randint(0, len(lists)-1)\n",
    "    if(lists[point] in genome):\n",
    "        if(not len(genome) == 1):\n",
    "            genome.remove(lists[point])\n",
    "    else:\n",
    "        genome.append(lists[point])\n",
    "    return genome"
   ]
  },
  {
   "cell_type": "markdown",
   "metadata": {},
   "source": [
    "Evolution"
   ]
  },
  {
   "cell_type": "code",
   "execution_count": 8,
   "metadata": {},
   "outputs": [],
   "source": [
    "for g in range(NUM_GENERATIONS):\n",
    "    offspring = list()\n",
    "    for i in range(OFFSPRING_SIZE):\n",
    "        if random.random() < 0.3:\n",
    "            p1 = tournament(population)\n",
    "            p2 = tournament(population)\n",
    "            o = cross_over(p1.genome, p2.genome)\n",
    "        else:\n",
    "            p = tournament(population)\n",
    "            o = mutation(p.genome)\n",
    "        f = covering(o)\n",
    "        offspring.append(Individual(o, f))\n",
    "    population += offspring\n",
    "    population = sorted(population, key=lambda i: i.fitness, reverse=True)[:POPULATION_SIZE]"
   ]
  }
 ],
 "metadata": {
  "kernelspec": {
   "display_name": "Python 3.10.4 64-bit",
   "language": "python",
   "name": "python3"
  },
  "language_info": {
   "codemirror_mode": {
    "name": "ipython",
    "version": 3
   },
   "file_extension": ".py",
   "mimetype": "text/x-python",
   "name": "python",
   "nbconvert_exporter": "python",
   "pygments_lexer": "ipython3",
   "version": "3.10.4"
  },
  "orig_nbformat": 4,
  "vscode": {
   "interpreter": {
    "hash": "aee8b7b246df8f9039afb4144a1f6fd8d2ca17a180786b69acc140d282b71a49"
   }
  }
 },
 "nbformat": 4,
 "nbformat_minor": 2
}
