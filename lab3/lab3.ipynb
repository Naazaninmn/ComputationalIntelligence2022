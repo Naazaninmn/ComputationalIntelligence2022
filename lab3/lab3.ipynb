{
 "cells": [
  {
   "cell_type": "code",
   "execution_count": 1643,
   "metadata": {},
   "outputs": [],
   "source": [
    "import logging\n",
    "from collections import namedtuple\n",
    "import random\n",
    "from typing import Callable\n",
    "from copy import deepcopy\n",
    "from itertools import accumulate\n",
    "from operator import xor\n",
    "import numpy as np"
   ]
  },
  {
   "cell_type": "markdown",
   "metadata": {},
   "source": [
    "The Nim and Nimply classes"
   ]
  },
  {
   "cell_type": "code",
   "execution_count": 1644,
   "metadata": {},
   "outputs": [],
   "source": [
    "Nimply = namedtuple(\"Nimply\", \"row, num_objects\")"
   ]
  },
  {
   "cell_type": "code",
   "execution_count": 1645,
   "metadata": {},
   "outputs": [],
   "source": [
    "class Nim:\n",
    "    def __init__(self, num_rows: int, k: int = None) -> None:\n",
    "        self._rows = [i * 2 + 1 for i in range(num_rows)]\n",
    "        self._k = k\n",
    "\n",
    "    def __bool__(self):\n",
    "        bool = False\n",
    "        if sum(self._rows) > 0:\n",
    "            bool = True\n",
    "        return bool\n",
    "\n",
    "    def __str__(self):\n",
    "        return \"<\" + \" \".join(str(_) for _ in self._rows) + \">\"\n",
    "\n",
    "    @property\n",
    "    def rows(self) -> np.array:\n",
    "        return np.array(self._rows)\n",
    "\n",
    "    @property\n",
    "    def k(self) -> int:\n",
    "        return self._k\n",
    "\n",
    "    def nimming(self, ply: Nimply) -> None:\n",
    "        row, num_objects = ply\n",
    "        assert self._rows[row] >= num_objects\n",
    "        assert self._k is None or num_objects <= self._k\n",
    "        self._rows[row] -= num_objects"
   ]
  },
  {
   "cell_type": "markdown",
   "metadata": {},
   "source": [
    "Random strategy"
   ]
  },
  {
   "cell_type": "code",
   "execution_count": 1646,
   "metadata": {},
   "outputs": [],
   "source": [
    "def pure_random(state: Nim) -> Nimply:\n",
    "    row = random.choice([r for r, c in enumerate(state.rows) if c > 0])\n",
    "    num_objects = random.randint(1, state.rows[row])\n",
    "    return Nimply(row, num_objects)"
   ]
  },
  {
   "cell_type": "code",
   "execution_count": 1647,
   "metadata": {},
   "outputs": [],
   "source": [
    "def nim_sum(state: Nim) -> int:\n",
    "    *_, result = accumulate(state.rows, xor)\n",
    "    return result\n",
    "\n",
    "def cook_status(state: Nim) -> dict:\n",
    "    cooked = dict()\n",
    "    cooked[\"possible_moves\"] = [\n",
    "        (r, o) for r, c in enumerate(state.rows) for o in range(1, c + 1) if state.k is None or o <= state.k\n",
    "    ]\n",
    "    cooked[\"active_rows_number\"] = sum(o > 0 for o in state.rows)\n",
    "    cooked[\"longest_row\"] = max((x for x in enumerate(state.rows)), key=lambda y: y[1])[0]\n",
    "    cooked[\"shortest_row\"] = min((x for x in enumerate(state.rows) if x[1] > 0), key=lambda y: y[1])[0]\n",
    "    cooked[\"nim_sum\"] = nim_sum(state)\n",
    "    \n",
    "    brute_force = list()\n",
    "    for m in cooked[\"possible_moves\"]:\n",
    "        tmp = deepcopy(state)\n",
    "        tmp.nimming(m)\n",
    "        brute_force.append((m, nim_sum(tmp)))\n",
    "    cooked[\"brute_force\"] = brute_force\n",
    "\n",
    "    return cooked\n",
    "\n",
    "def optimal_startegy(state: Nim) -> Nimply:\n",
    "    data = cook_status(state)\n",
    "    return next((bf for bf in data[\"brute_force\"] if bf[1] == 0), random.choice(data[\"brute_force\"]))[0]"
   ]
  },
  {
   "cell_type": "markdown",
   "metadata": {},
   "source": [
    "A hard-coded strategy"
   ]
  },
  {
   "cell_type": "code",
   "execution_count": 1648,
   "metadata": {},
   "outputs": [],
   "source": [
    "def make_strategy1() -> Callable:\n",
    "    def hardcoded(state: Nim) -> Nimply:\n",
    "        data = cook_status(state)\n",
    "\n",
    "        if (state.rows.sum() % 2 == 0 and state.rows[data[\"longest_row\"]] > 1):\n",
    "            ply = Nimply(data[\"longest_row\"], 2)\n",
    "        else:\n",
    "            ply = Nimply(data[\"longest_row\"], 1)\n",
    "\n",
    "        return ply\n",
    "\n",
    "    return hardcoded"
   ]
  },
  {
   "cell_type": "markdown",
   "metadata": {},
   "source": [
    "Another hard-coded strategy"
   ]
  },
  {
   "cell_type": "code",
   "execution_count": 1649,
   "metadata": {},
   "outputs": [],
   "source": [
    "def make_strategy2() -> Callable:\n",
    "    def evolvable(state: Nim) -> Nimply:\n",
    "        data = cook_status(state)\n",
    "\n",
    "        if (data[\"active_rows_number\"] % 2 == 0 and state.rows[data[\"longest_row\"]] > 2):\n",
    "            ply = Nimply(data[\"longest_row\"], state.rows[data[\"longest_row\"]] - 1)\n",
    "        else:\n",
    "            ply = Nimply(data[\"longest_row\"], state.rows[data[\"longest_row\"]])\n",
    "            \n",
    "        return ply\n",
    "\n",
    "    return evolvable"
   ]
  },
  {
   "cell_type": "markdown",
   "metadata": {},
   "source": [
    "An evolvable strategy"
   ]
  },
  {
   "cell_type": "code",
   "execution_count": 1650,
   "metadata": {},
   "outputs": [],
   "source": [
    "def make_strategy3(genome: dict) -> Callable:\n",
    "    def evolvable(state: Nim) -> Nimply:\n",
    "        data = cook_status(state)\n",
    "\n",
    "        if random.random() < genome[\"p\"]:\n",
    "            if (data[\"active_rows_number\"] % 2 == 0 and state.rows[data[\"longest_row\"]] > 2):\n",
    "                ply = Nimply(data[\"longest_row\"], state.rows[data[\"longest_row\"]] - 1)\n",
    "            else:\n",
    "                ply = Nimply(data[\"longest_row\"], state.rows[data[\"longest_row\"]])\n",
    "        else:\n",
    "            if (data[\"active_rows_number\"] % 2 == 0 and state.rows[data[\"shortest_row\"]] > 2):\n",
    "                ply = Nimply(data[\"shortest_row\"], state.rows[data[\"shortest_row\"]] - 1)\n",
    "            else:\n",
    "                ply = Nimply(data[\"shortest_row\"], state.rows[data[\"shortest_row\"]])\n",
    "                \n",
    "        return ply\n",
    "\n",
    "    return evolvable"
   ]
  },
  {
   "cell_type": "markdown",
   "metadata": {},
   "source": [
    "Evaluation"
   ]
  },
  {
   "cell_type": "code",
   "execution_count": 1651,
   "metadata": {},
   "outputs": [],
   "source": [
    "NUM_MATCHES = 100\n",
    "NIM_SIZE = 10\n",
    "\n",
    "#evaluation with pure_random as the second player\n",
    "def evaluate1(strategy: Callable) -> float:\n",
    "    opponent = (strategy, pure_random)\n",
    "    won = 0\n",
    "\n",
    "    for m in range(NUM_MATCHES):\n",
    "        nim = Nim(NIM_SIZE)\n",
    "        player = 0\n",
    "        while nim:\n",
    "            ply = opponent[player](nim)\n",
    "            nim.nimming(ply)\n",
    "            player = 1 - player\n",
    "        if player == 1:\n",
    "            won += 1\n",
    "    return won / NUM_MATCHES\n",
    "\n",
    "\n",
    "#evaluation with pure_random as the first player\n",
    "def evaluate2(strategy: Callable) -> float:\n",
    "    opponent = (pure_random, strategy)\n",
    "    won = 0\n",
    "\n",
    "    for m in range(NUM_MATCHES):\n",
    "        nim = Nim(NIM_SIZE)\n",
    "        player = 0\n",
    "        while nim:\n",
    "            ply = opponent[player](nim)\n",
    "            nim.nimming(ply)\n",
    "            player = 1 - player\n",
    "        if player == 0:\n",
    "            won += 1\n",
    "    return won / NUM_MATCHES    "
   ]
  },
  {
   "cell_type": "code",
   "execution_count": 1652,
   "metadata": {},
   "outputs": [
    {
     "name": "stderr",
     "output_type": "stream",
     "text": [
      "DEBUG:root:first hard-coded strategy vs. pure_random: 0.9\n",
      "DEBUG:root:pure_random vs. first hard-coded strategy: 0.86\n",
      "DEBUG:root:second hard-coded strategy vs. pure_random: 0.85\n",
      "DEBUG:root:pure_random vs. second hard-coded strategy: 0.91\n"
     ]
    }
   ],
   "source": [
    "logging.getLogger().setLevel(logging.DEBUG)\n",
    "\n",
    "#evaluating the first hard-coded strategy\n",
    "logging.debug(f\"first hard-coded strategy vs. pure_random: {evaluate1(make_strategy1())}\")\n",
    "logging.debug(f\"pure_random vs. first hard-coded strategy: {evaluate2(make_strategy1())}\")\n",
    "#evaluating the second hard-coded strategy\n",
    "logging.debug(f\"second hard-coded strategy vs. pure_random: {evaluate1(make_strategy2())}\")\n",
    "logging.debug(f\"pure_random vs. second hard-coded strategy: {evaluate2(make_strategy2())}\")"
   ]
  },
  {
   "cell_type": "code",
   "execution_count": 1672,
   "metadata": {},
   "outputs": [
    {
     "name": "stderr",
     "output_type": "stream",
     "text": [
      "DEBUG:root:probability of choosing the longest row when playing as the first player: 0.30000000000000004\n",
      "DEBUG:root:probability of choosing the longest row when playing as the second player: 0.30000000000000004\n"
     ]
    }
   ],
   "source": [
    "NUM_GENERATIONS = 30\n",
    "\n",
    "p1 = 0.5\n",
    "oldEval = 0\n",
    "for g in range(NUM_GENERATIONS):\n",
    "    newEval = evaluate1(make_strategy3({\"p\": p1}))\n",
    "    if newEval > oldEval:\n",
    "        p1 += 0.1\n",
    "        if p1 > 1:\n",
    "            p1 = 1\n",
    "        oldEval = newEval\n",
    "    else:\n",
    "        p1 -= 0.1\n",
    "        if p1 < 0:\n",
    "            p1 = 0\n",
    "        oldEval = newEval\n",
    "logging.debug(f\"probability of choosing the longest row when playing as the first player: {p1}\")\n",
    "\n",
    "p2 = 0.5\n",
    "oldEval = 0\n",
    "for g in range(NUM_GENERATIONS):\n",
    "    newEval = evaluate2(make_strategy3({\"p\": p2}))\n",
    "    if newEval > oldEval:\n",
    "        p2 += 0.1\n",
    "        if p2 > 1:\n",
    "            p2 = 1\n",
    "        oldEval = newEval\n",
    "    else:\n",
    "        p2 -= 0.1\n",
    "        if p2 < 0:\n",
    "            p2 = 0\n",
    "        oldEval = newEval\n",
    "logging.debug(f\"probability of choosing the longest row when playing as the second player: {p2}\")"
   ]
  },
  {
   "cell_type": "code",
   "execution_count": 1673,
   "metadata": {},
   "outputs": [
    {
     "name": "stderr",
     "output_type": "stream",
     "text": [
      "DEBUG:root:second hard-coded strategy vs. pure_random: 0.86\n",
      "DEBUG:root:pure_random vs. second hard-coded strategy: 0.82\n"
     ]
    }
   ],
   "source": [
    "#evaluating the evolvable strategy\n",
    "e1 = evaluate1(make_strategy3({\"p\": 0.3}))\n",
    "logging.debug(f\"second hard-coded strategy vs. pure_random: {e1}\")\n",
    "e2 = evaluate2(make_strategy3({\"p\": 0.3}))\n",
    "logging.debug(f\"pure_random vs. second hard-coded strategy: {e2}\")"
   ]
  },
  {
   "cell_type": "markdown",
   "metadata": {},
   "source": [
    "Oversimplified match"
   ]
  },
  {
   "cell_type": "code",
   "execution_count": null,
   "metadata": {},
   "outputs": [
    {
     "name": "stderr",
     "output_type": "stream",
     "text": [
      "DEBUG:root:status: Initial board  -> <1 3 5 7 9 11 13 15 17 19 21>\n",
      "DEBUG:root:status: After player 0 -> <1 3 5 7 9 11 13 15 17 19 20>\n",
      "DEBUG:root:status: After player 1 -> <1 1 5 7 9 11 13 15 17 19 20>\n",
      "DEBUG:root:status: After player 0 -> <1 1 5 7 9 11 13 15 17 19 18>\n",
      "DEBUG:root:status: After player 1 -> <1 1 0 7 9 11 13 15 17 19 18>\n",
      "DEBUG:root:status: After player 0 -> <1 1 0 7 9 11 13 15 17 18 18>\n",
      "DEBUG:root:status: After player 1 -> <1 1 0 7 9 11 5 15 17 18 18>\n",
      "DEBUG:root:status: After player 0 -> <1 1 0 7 9 11 5 15 17 16 18>\n",
      "DEBUG:root:status: After player 1 -> <1 1 0 7 9 11 5 2 17 16 18>\n",
      "DEBUG:root:status: After player 0 -> <1 1 0 7 9 11 5 2 17 16 17>\n",
      "DEBUG:root:status: After player 1 -> <1 1 0 7 2 11 5 2 17 16 17>\n",
      "DEBUG:root:status: After player 0 -> <1 1 0 7 2 11 5 2 16 16 17>\n",
      "DEBUG:root:status: After player 1 -> <1 1 0 7 0 11 5 2 16 16 17>\n",
      "DEBUG:root:status: After player 0 -> <1 1 0 7 0 11 5 2 16 16 15>\n",
      "DEBUG:root:status: After player 1 -> <1 0 0 7 0 11 5 2 16 16 15>\n",
      "DEBUG:root:status: After player 0 -> <1 0 0 7 0 11 5 2 15 16 15>\n",
      "DEBUG:root:status: After player 1 -> <1 0 0 7 0 11 5 1 15 16 15>\n",
      "DEBUG:root:status: After player 0 -> <1 0 0 7 0 11 5 1 15 15 15>\n",
      "DEBUG:root:status: After player 1 -> <1 0 0 7 0 11 5 1 15 15 9>\n",
      "DEBUG:root:status: After player 0 -> <1 0 0 7 0 11 5 1 13 15 9>\n",
      "DEBUG:root:status: After player 1 -> <0 0 0 7 0 11 5 1 13 15 9>\n",
      "DEBUG:root:status: After player 0 -> <0 0 0 7 0 11 5 1 13 14 9>\n",
      "DEBUG:root:status: After player 1 -> <0 0 0 5 0 11 5 1 13 14 9>\n",
      "DEBUG:root:status: After player 0 -> <0 0 0 5 0 11 5 1 13 12 9>\n",
      "DEBUG:root:status: After player 1 -> <0 0 0 5 0 11 5 1 3 12 9>\n",
      "DEBUG:root:status: After player 0 -> <0 0 0 5 0 11 5 1 3 10 9>\n",
      "DEBUG:root:status: After player 1 -> <0 0 0 5 0 11 2 1 3 10 9>\n",
      "DEBUG:root:status: After player 0 -> <0 0 0 5 0 10 2 1 3 10 9>\n",
      "DEBUG:root:status: After player 1 -> <0 0 0 0 0 10 2 1 3 10 9>\n",
      "DEBUG:root:status: After player 0 -> <0 0 0 0 0 9 2 1 3 10 9>\n",
      "DEBUG:root:status: After player 1 -> <0 0 0 0 0 9 0 1 3 10 9>\n",
      "DEBUG:root:status: After player 0 -> <0 0 0 0 0 9 0 1 3 8 9>\n",
      "DEBUG:root:status: After player 1 -> <0 0 0 0 0 9 0 1 3 0 9>\n",
      "DEBUG:root:status: After player 0 -> <0 0 0 0 0 7 0 1 3 0 9>\n",
      "DEBUG:root:status: After player 1 -> <0 0 0 0 0 7 0 1 3 0 3>\n",
      "DEBUG:root:status: After player 0 -> <0 0 0 0 0 5 0 1 3 0 3>\n",
      "DEBUG:root:status: After player 1 -> <0 0 0 0 0 5 0 0 3 0 3>\n",
      "DEBUG:root:status: After player 0 -> <0 0 0 0 0 4 0 0 3 0 3>\n",
      "DEBUG:root:status: After player 1 -> <0 0 0 0 0 4 0 0 0 0 3>\n",
      "DEBUG:root:status: After player 0 -> <0 0 0 0 0 3 0 0 0 0 3>\n",
      "DEBUG:root:status: After player 1 -> <0 0 0 0 0 2 0 0 0 0 3>\n",
      "DEBUG:root:status: After player 0 -> <0 0 0 0 0 2 0 0 0 0 2>\n",
      "DEBUG:root:status: After player 1 -> <0 0 0 0 0 0 0 0 0 0 2>\n",
      "DEBUG:root:status: After player 0 -> <0 0 0 0 0 0 0 0 0 0 0>\n",
      "INFO:root:status: Player 0 won!\n"
     ]
    }
   ],
   "source": [
    "strategy = (make_strategy1(), pure_random)\n",
    "nim = Nim(11)\n",
    "logging.debug(f\"status: Initial board  -> {nim}\")\n",
    "player = 0\n",
    "while nim:\n",
    "    ply = strategy[player](nim)\n",
    "    nim.nimming(ply)\n",
    "    logging.debug(f\"status: After player {player} -> {nim}\")\n",
    "    player = 1 - player\n",
    "winner = 1 - player\n",
    "logging.info(f\"status: Player {winner} won!\")"
   ]
  },
  {
   "cell_type": "code",
   "execution_count": null,
   "metadata": {},
   "outputs": [
    {
     "name": "stderr",
     "output_type": "stream",
     "text": [
      "DEBUG:root:status: Initial board  -> <1 3 5 7 9 11 13 15 17 19 21>\n",
      "DEBUG:root:status: After player 0 -> <0 3 5 7 9 11 13 15 17 19 21>\n",
      "DEBUG:root:status: After player 1 -> <0 3 5 7 9 11 13 15 17 19 19>\n",
      "DEBUG:root:status: After player 0 -> <0 3 5 7 9 11 0 15 17 19 19>\n",
      "DEBUG:root:status: After player 1 -> <0 3 5 7 9 11 0 15 17 18 19>\n",
      "DEBUG:root:status: After player 0 -> <0 3 5 1 9 11 0 15 17 18 19>\n",
      "DEBUG:root:status: After player 1 -> <0 3 5 1 9 11 0 15 17 18 17>\n",
      "DEBUG:root:status: After player 0 -> <0 3 5 1 6 11 0 15 17 18 17>\n",
      "DEBUG:root:status: After player 1 -> <0 3 5 1 6 11 0 15 17 17 17>\n",
      "DEBUG:root:status: After player 0 -> <0 3 0 1 6 11 0 15 17 17 17>\n",
      "DEBUG:root:status: After player 1 -> <0 3 0 1 6 11 0 15 16 17 17>\n",
      "DEBUG:root:status: After player 0 -> <0 0 0 1 6 11 0 15 16 17 17>\n",
      "DEBUG:root:status: After player 1 -> <0 0 0 1 6 11 0 15 16 16 17>\n",
      "DEBUG:root:status: After player 0 -> <0 0 0 1 6 9 0 15 16 16 17>\n",
      "DEBUG:root:status: After player 1 -> <0 0 0 1 6 9 0 15 16 16 15>\n",
      "DEBUG:root:status: After player 0 -> <0 0 0 0 6 9 0 15 16 16 15>\n",
      "DEBUG:root:status: After player 1 -> <0 0 0 0 6 9 0 15 15 16 15>\n",
      "DEBUG:root:status: After player 0 -> <0 0 0 0 6 9 0 15 7 16 15>\n",
      "DEBUG:root:status: After player 1 -> <0 0 0 0 6 9 0 15 7 14 15>\n",
      "DEBUG:root:status: After player 0 -> <0 0 0 0 6 9 0 15 7 14 9>\n",
      "DEBUG:root:status: After player 1 -> <0 0 0 0 6 9 0 13 7 14 9>\n",
      "DEBUG:root:status: After player 0 -> <0 0 0 0 6 9 0 13 3 14 9>\n",
      "DEBUG:root:status: After player 1 -> <0 0 0 0 6 9 0 13 3 12 9>\n",
      "DEBUG:root:status: After player 0 -> <0 0 0 0 6 9 0 13 3 12 5>\n",
      "DEBUG:root:status: After player 1 -> <0 0 0 0 6 9 0 11 3 12 5>\n",
      "DEBUG:root:status: After player 0 -> <0 0 0 0 6 9 0 5 3 12 5>\n",
      "DEBUG:root:status: After player 1 -> <0 0 0 0 6 9 0 5 3 10 5>\n",
      "DEBUG:root:status: After player 0 -> <0 0 0 0 6 9 0 1 3 10 5>\n",
      "DEBUG:root:status: After player 1 -> <0 0 0 0 6 9 0 1 3 8 5>\n",
      "DEBUG:root:status: After player 0 -> <0 0 0 0 0 9 0 1 3 8 5>\n",
      "DEBUG:root:status: After player 1 -> <0 0 0 0 0 7 0 1 3 8 5>\n",
      "DEBUG:root:status: After player 0 -> <0 0 0 0 0 0 0 1 3 8 5>\n",
      "DEBUG:root:status: After player 1 -> <0 0 0 0 0 0 0 1 3 7 5>\n",
      "DEBUG:root:status: After player 0 -> <0 0 0 0 0 0 0 1 3 1 5>\n",
      "DEBUG:root:status: After player 1 -> <0 0 0 0 0 0 0 1 3 1 3>\n",
      "DEBUG:root:status: After player 0 -> <0 0 0 0 0 0 0 1 3 1 1>\n",
      "DEBUG:root:status: After player 1 -> <0 0 0 0 0 0 0 1 1 1 1>\n",
      "DEBUG:root:status: After player 0 -> <0 0 0 0 0 0 0 1 1 0 1>\n",
      "DEBUG:root:status: After player 1 -> <0 0 0 0 0 0 0 0 1 0 1>\n",
      "DEBUG:root:status: After player 0 -> <0 0 0 0 0 0 0 0 1 0 0>\n",
      "DEBUG:root:status: After player 1 -> <0 0 0 0 0 0 0 0 0 0 0>\n",
      "INFO:root:status: Player 1 won!\n"
     ]
    }
   ],
   "source": [
    "strategy = (pure_random, make_strategy1())\n",
    "nim = Nim(11)\n",
    "logging.debug(f\"status: Initial board  -> {nim}\")\n",
    "player = 0\n",
    "while nim:\n",
    "    ply = strategy[player](nim)\n",
    "    nim.nimming(ply)\n",
    "    logging.debug(f\"status: After player {player} -> {nim}\")\n",
    "    player = 1 - player\n",
    "winner = 1 - player\n",
    "logging.info(f\"status: Player {winner} won!\")"
   ]
  },
  {
   "cell_type": "code",
   "execution_count": null,
   "metadata": {},
   "outputs": [
    {
     "name": "stderr",
     "output_type": "stream",
     "text": [
      "DEBUG:root:status: Initial board  -> <1 3 5 7 9 11 13 15 17 19 21>\n",
      "DEBUG:root:status: After player 0 -> <1 3 5 7 9 11 13 15 17 19 0>\n",
      "DEBUG:root:status: After player 1 -> <1 3 5 7 9 11 1 15 17 19 0>\n",
      "DEBUG:root:status: After player 0 -> <1 3 5 7 9 11 1 15 17 1 0>\n",
      "DEBUG:root:status: After player 1 -> <1 2 5 7 9 11 1 15 17 1 0>\n",
      "DEBUG:root:status: After player 0 -> <1 2 5 7 9 11 1 15 1 1 0>\n",
      "DEBUG:root:status: After player 1 -> <1 2 5 7 9 2 1 15 1 1 0>\n",
      "DEBUG:root:status: After player 0 -> <1 2 5 7 9 2 1 1 1 1 0>\n",
      "DEBUG:root:status: After player 1 -> <1 2 5 7 3 2 1 1 1 1 0>\n",
      "DEBUG:root:status: After player 0 -> <1 2 5 1 3 2 1 1 1 1 0>\n",
      "DEBUG:root:status: After player 1 -> <1 2 5 1 3 1 1 1 1 1 0>\n",
      "DEBUG:root:status: After player 0 -> <1 2 1 1 3 1 1 1 1 1 0>\n",
      "DEBUG:root:status: After player 1 -> <1 2 0 1 3 1 1 1 1 1 0>\n",
      "DEBUG:root:status: After player 0 -> <1 2 0 1 0 1 1 1 1 1 0>\n",
      "DEBUG:root:status: After player 1 -> <1 2 0 1 0 1 1 1 1 0 0>\n",
      "DEBUG:root:status: After player 0 -> <1 0 0 1 0 1 1 1 1 0 0>\n",
      "DEBUG:root:status: After player 1 -> <1 0 0 1 0 1 1 0 1 0 0>\n",
      "DEBUG:root:status: After player 0 -> <0 0 0 1 0 1 1 0 1 0 0>\n",
      "DEBUG:root:status: After player 1 -> <0 0 0 0 0 1 1 0 1 0 0>\n",
      "DEBUG:root:status: After player 0 -> <0 0 0 0 0 0 1 0 1 0 0>\n",
      "DEBUG:root:status: After player 1 -> <0 0 0 0 0 0 1 0 0 0 0>\n",
      "DEBUG:root:status: After player 0 -> <0 0 0 0 0 0 0 0 0 0 0>\n",
      "INFO:root:status: Player 0 won!\n"
     ]
    }
   ],
   "source": [
    "strategy = (make_strategy2(), pure_random)\n",
    "nim = Nim(11)\n",
    "logging.debug(f\"status: Initial board  -> {nim}\")\n",
    "player = 0\n",
    "while nim:\n",
    "    ply = strategy[player](nim)\n",
    "    nim.nimming(ply)\n",
    "    logging.debug(f\"status: After player {player} -> {nim}\")\n",
    "    player = 1 - player\n",
    "winner = 1 - player\n",
    "logging.info(f\"status: Player {winner} won!\")"
   ]
  },
  {
   "cell_type": "code",
   "execution_count": null,
   "metadata": {},
   "outputs": [
    {
     "name": "stderr",
     "output_type": "stream",
     "text": [
      "DEBUG:root:status: Initial board  -> <1 3 5 7 9 11 13 15 17 19 21>\n",
      "DEBUG:root:status: After player 0 -> <1 3 5 7 9 11 13 15 17 10 21>\n",
      "DEBUG:root:status: After player 1 -> <1 3 5 7 9 11 13 15 17 10 0>\n",
      "DEBUG:root:status: After player 0 -> <1 3 5 7 9 11 11 15 17 10 0>\n",
      "DEBUG:root:status: After player 1 -> <1 3 5 7 9 11 11 15 1 10 0>\n",
      "DEBUG:root:status: After player 0 -> <1 3 5 7 9 11 7 15 1 10 0>\n",
      "DEBUG:root:status: After player 1 -> <1 3 5 7 9 11 7 1 1 10 0>\n",
      "DEBUG:root:status: After player 0 -> <1 3 5 7 9 11 7 0 1 10 0>\n",
      "DEBUG:root:status: After player 1 -> <1 3 5 7 9 0 7 0 1 10 0>\n",
      "DEBUG:root:status: After player 0 -> <1 3 5 7 6 0 7 0 1 10 0>\n",
      "DEBUG:root:status: After player 1 -> <1 3 5 7 6 0 7 0 1 1 0>\n",
      "DEBUG:root:status: After player 0 -> <1 3 5 7 6 0 7 0 0 1 0>\n",
      "DEBUG:root:status: After player 1 -> <1 3 5 0 6 0 7 0 0 1 0>\n",
      "DEBUG:root:status: After player 0 -> <1 3 3 0 6 0 7 0 0 1 0>\n",
      "DEBUG:root:status: After player 1 -> <1 3 3 0 6 0 1 0 0 1 0>\n",
      "DEBUG:root:status: After player 0 -> <1 3 3 0 6 0 0 0 0 1 0>\n",
      "DEBUG:root:status: After player 1 -> <1 3 3 0 0 0 0 0 0 1 0>\n",
      "DEBUG:root:status: After player 0 -> <1 3 0 0 0 0 0 0 0 1 0>\n",
      "DEBUG:root:status: After player 1 -> <1 0 0 0 0 0 0 0 0 1 0>\n",
      "DEBUG:root:status: After player 0 -> <0 0 0 0 0 0 0 0 0 1 0>\n",
      "DEBUG:root:status: After player 1 -> <0 0 0 0 0 0 0 0 0 0 0>\n",
      "INFO:root:status: Player 1 won!\n"
     ]
    }
   ],
   "source": [
    "strategy = (pure_random, make_strategy2())\n",
    "nim = Nim(11)\n",
    "logging.debug(f\"status: Initial board  -> {nim}\")\n",
    "player = 0\n",
    "while nim:\n",
    "    ply = strategy[player](nim)\n",
    "    nim.nimming(ply)\n",
    "    logging.debug(f\"status: After player {player} -> {nim}\")\n",
    "    player = 1 - player\n",
    "winner = 1 - player\n",
    "logging.info(f\"status: Player {winner} won!\")"
   ]
  },
  {
   "cell_type": "code",
   "execution_count": 1675,
   "metadata": {},
   "outputs": [
    {
     "name": "stderr",
     "output_type": "stream",
     "text": [
      "DEBUG:root:status: Initial board  -> <1 3 5 7 9 11 13 15 17 19 21>\n",
      "DEBUG:root:status: After player 0 -> <1 3 5 7 9 11 13 15 17 19 0>\n",
      "DEBUG:root:status: After player 1 -> <1 3 5 1 9 11 13 15 17 19 0>\n",
      "DEBUG:root:status: After player 0 -> <0 3 5 1 9 11 13 15 17 19 0>\n",
      "DEBUG:root:status: After player 1 -> <0 3 4 1 9 11 13 15 17 19 0>\n",
      "DEBUG:root:status: After player 0 -> <0 3 4 0 9 11 13 15 17 19 0>\n",
      "DEBUG:root:status: After player 1 -> <0 3 4 0 9 11 5 15 17 19 0>\n",
      "DEBUG:root:status: After player 0 -> <0 1 4 0 9 11 5 15 17 19 0>\n",
      "DEBUG:root:status: After player 1 -> <0 1 4 0 9 11 5 15 10 19 0>\n",
      "DEBUG:root:status: After player 0 -> <0 0 4 0 9 11 5 15 10 19 0>\n",
      "DEBUG:root:status: After player 1 -> <0 0 4 0 9 11 5 15 10 8 0>\n",
      "DEBUG:root:status: After player 0 -> <0 0 0 0 9 11 5 15 10 8 0>\n",
      "DEBUG:root:status: After player 1 -> <0 0 0 0 9 9 5 15 10 8 0>\n",
      "DEBUG:root:status: After player 0 -> <0 0 0 0 9 9 1 15 10 8 0>\n",
      "DEBUG:root:status: After player 1 -> <0 0 0 0 9 9 0 15 10 8 0>\n",
      "DEBUG:root:status: After player 0 -> <0 0 0 0 9 9 0 0 10 8 0>\n",
      "DEBUG:root:status: After player 1 -> <0 0 0 0 9 9 0 0 6 8 0>\n",
      "DEBUG:root:status: After player 0 -> <0 0 0 0 9 9 0 0 1 8 0>\n",
      "DEBUG:root:status: After player 1 -> <0 0 0 0 9 9 0 0 1 2 0>\n",
      "DEBUG:root:status: After player 0 -> <0 0 0 0 9 9 0 0 0 2 0>\n",
      "DEBUG:root:status: After player 1 -> <0 0 0 0 9 6 0 0 0 2 0>\n",
      "DEBUG:root:status: After player 0 -> <0 0 0 0 9 6 0 0 0 0 0>\n",
      "DEBUG:root:status: After player 1 -> <0 0 0 0 0 6 0 0 0 0 0>\n",
      "DEBUG:root:status: After player 0 -> <0 0 0 0 0 0 0 0 0 0 0>\n",
      "INFO:root:status: Player 0 won!\n"
     ]
    }
   ],
   "source": [
    "strategy = (make_strategy3({\"p\": 0.3}), pure_random)\n",
    "nim = Nim(11)\n",
    "logging.debug(f\"status: Initial board  -> {nim}\")\n",
    "player = 0\n",
    "while nim:\n",
    "    ply = strategy[player](nim)\n",
    "    nim.nimming(ply)\n",
    "    logging.debug(f\"status: After player {player} -> {nim}\")\n",
    "    player = 1 - player\n",
    "winner = 1 - player\n",
    "logging.info(f\"status: Player {winner} won!\")"
   ]
  },
  {
   "cell_type": "code",
   "execution_count": 1676,
   "metadata": {},
   "outputs": [
    {
     "name": "stderr",
     "output_type": "stream",
     "text": [
      "DEBUG:root:status: Initial board  -> <1 3 5 7 9 11 13 15 17 19 21>\n",
      "DEBUG:root:status: After player 0 -> <1 3 5 7 9 11 13 15 17 19 3>\n",
      "DEBUG:root:status: After player 1 -> <0 3 5 7 9 11 13 15 17 19 3>\n",
      "DEBUG:root:status: After player 0 -> <0 3 5 7 9 11 13 15 17 19 0>\n",
      "DEBUG:root:status: After player 1 -> <0 3 5 7 9 11 13 15 17 0 0>\n",
      "DEBUG:root:status: After player 0 -> <0 3 5 7 2 11 13 15 17 0 0>\n",
      "DEBUG:root:status: After player 1 -> <0 3 5 7 2 11 13 15 1 0 0>\n",
      "DEBUG:root:status: After player 0 -> <0 3 5 7 1 11 13 15 1 0 0>\n",
      "DEBUG:root:status: After player 1 -> <0 3 5 7 1 11 13 1 1 0 0>\n",
      "DEBUG:root:status: After player 0 -> <0 3 5 7 1 11 7 1 1 0 0>\n",
      "DEBUG:root:status: After player 1 -> <0 3 5 7 0 11 7 1 1 0 0>\n",
      "DEBUG:root:status: After player 0 -> <0 3 5 7 0 9 7 1 1 0 0>\n",
      "DEBUG:root:status: After player 1 -> <0 3 5 7 0 0 7 1 1 0 0>\n",
      "DEBUG:root:status: After player 0 -> <0 3 4 7 0 0 7 1 1 0 0>\n",
      "DEBUG:root:status: After player 1 -> <0 3 4 7 0 0 7 0 1 0 0>\n",
      "DEBUG:root:status: After player 0 -> <0 3 0 7 0 0 7 0 1 0 0>\n",
      "DEBUG:root:status: After player 1 -> <0 3 0 7 0 0 7 0 0 0 0>\n",
      "DEBUG:root:status: After player 0 -> <0 3 0 1 0 0 7 0 0 0 0>\n",
      "DEBUG:root:status: After player 1 -> <0 3 0 0 0 0 7 0 0 0 0>\n",
      "DEBUG:root:status: After player 0 -> <0 3 0 0 0 0 0 0 0 0 0>\n",
      "DEBUG:root:status: After player 1 -> <0 0 0 0 0 0 0 0 0 0 0>\n",
      "INFO:root:status: Player 1 won!\n"
     ]
    }
   ],
   "source": [
    "strategy = (pure_random, make_strategy3({\"p\": 0.3}))\n",
    "nim = Nim(11)\n",
    "logging.debug(f\"status: Initial board  -> {nim}\")\n",
    "player = 0\n",
    "while nim:\n",
    "    ply = strategy[player](nim)\n",
    "    nim.nimming(ply)\n",
    "    logging.debug(f\"status: After player {player} -> {nim}\")\n",
    "    player = 1 - player\n",
    "winner = 1 - player\n",
    "logging.info(f\"status: Player {winner} won!\")"
   ]
  }
 ],
 "metadata": {
  "kernelspec": {
   "display_name": "Python 3.10.4 64-bit",
   "language": "python",
   "name": "python3"
  },
  "language_info": {
   "codemirror_mode": {
    "name": "ipython",
    "version": 3
   },
   "file_extension": ".py",
   "mimetype": "text/x-python",
   "name": "python",
   "nbconvert_exporter": "python",
   "pygments_lexer": "ipython3",
   "version": "3.10.4"
  },
  "orig_nbformat": 4,
  "vscode": {
   "interpreter": {
    "hash": "aee8b7b246df8f9039afb4144a1f6fd8d2ca17a180786b69acc140d282b71a49"
   }
  }
 },
 "nbformat": 4,
 "nbformat_minor": 2
}
