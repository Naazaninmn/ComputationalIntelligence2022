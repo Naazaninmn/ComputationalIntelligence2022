{
 "cells": [
  {
   "cell_type": "code",
   "execution_count": 1,
   "metadata": {},
   "outputs": [],
   "source": [
    "import logging\n",
    "from collections import namedtuple\n",
    "import random\n",
    "from typing import Callable\n",
    "from copy import deepcopy\n",
    "from itertools import accumulate\n",
    "from operator import xor\n",
    "import numpy as np"
   ]
  },
  {
   "cell_type": "markdown",
   "metadata": {},
   "source": [
    "The Nim and Nimply classes"
   ]
  },
  {
   "cell_type": "code",
   "execution_count": 2,
   "metadata": {},
   "outputs": [],
   "source": [
    "Nimply = namedtuple(\"Nimply\", \"row, num_objects\")"
   ]
  },
  {
   "cell_type": "code",
   "execution_count": 3,
   "metadata": {},
   "outputs": [],
   "source": [
    "class Nim:\n",
    "    def __init__(self, num_rows: int, k: int = None) -> None:\n",
    "        self._rows = [i * 2 + 1 for i in range(num_rows)]\n",
    "        self._k = k\n",
    "\n",
    "    def __bool__(self):\n",
    "        bool = False\n",
    "        if sum(self._rows) > 0:\n",
    "            bool = True\n",
    "        return bool\n",
    "\n",
    "    def __str__(self):\n",
    "        return \"<\" + \" \".join(str(_) for _ in self._rows) + \">\"\n",
    "\n",
    "    @property\n",
    "    def rows(self) -> np.array:\n",
    "        return np.array(self._rows)\n",
    "\n",
    "    @property\n",
    "    def k(self) -> int:\n",
    "        return self._k\n",
    "\n",
    "    def nimming(self, ply: Nimply) -> None:\n",
    "        row, num_objects = ply\n",
    "        assert self._rows[row] >= num_objects\n",
    "        assert self._k is None or num_objects <= self._k\n",
    "        self._rows[row] -= num_objects\n",
    "\n",
    "    def get_state_and_reward(self):\n",
    "        return tuple(self.rows), self.give_reward()\n",
    "\n",
    "    def give_reward(self):\n",
    "        # if at end give 0 reward\n",
    "        # if not at end give -1 reward\n",
    "        if not self:\n",
    "            return 0\n",
    "        return -1"
   ]
  },
  {
   "cell_type": "markdown",
   "metadata": {},
   "source": [
    "Random strategy"
   ]
  },
  {
   "cell_type": "code",
   "execution_count": 4,
   "metadata": {},
   "outputs": [],
   "source": [
    "def pure_random(state: Nim) -> Nimply:\n",
    "    row = random.choice([r for r, c in enumerate(state.rows) if c > 0])\n",
    "    num_objects = random.randint(1, state.rows[row])\n",
    "    return Nimply(row, num_objects)"
   ]
  },
  {
   "cell_type": "code",
   "execution_count": 5,
   "metadata": {},
   "outputs": [],
   "source": [
    "def nim_sum(state: Nim) -> int:\n",
    "    *_, result = accumulate(state.rows, xor)\n",
    "    return result\n",
    "\n",
    "def cook_status(state: Nim) -> dict:\n",
    "    cooked = dict()\n",
    "    cooked[\"possible_moves\"] = [\n",
    "        (r, o) for r, c in enumerate(state.rows) for o in range(1, c + 1) if state.k is None or o <= state.k\n",
    "    ]\n",
    "    cooked[\"active_rows_number\"] = sum(o > 0 for o in state.rows)\n",
    "    cooked[\"longest_row\"] = max((x for x in enumerate(state.rows)), key=lambda y: y[1])[0]\n",
    "    cooked[\"shortest_row\"] = min((x for x in enumerate(state.rows) if x[1] > 0), key=lambda y: y[1])[0]\n",
    "    cooked[\"nim_sum\"] = nim_sum(state)\n",
    "    \n",
    "    brute_force = list()\n",
    "    for m in cooked[\"possible_moves\"]:\n",
    "        tmp = deepcopy(state)\n",
    "        tmp.nimming(m)\n",
    "        brute_force.append((m, nim_sum(tmp)))\n",
    "    cooked[\"brute_force\"] = brute_force\n",
    "\n",
    "    return cooked\n",
    "\n",
    "def optimal_strategy(state: Nim) -> Nimply:\n",
    "    data = cook_status(state)\n",
    "    return next((bf for bf in data[\"brute_force\"] if bf[1] == 0), random.choice(data[\"brute_force\"]))[0]"
   ]
  },
  {
   "cell_type": "markdown",
   "metadata": {},
   "source": [
    "A hard-coded strategy"
   ]
  },
  {
   "cell_type": "code",
   "execution_count": 6,
   "metadata": {},
   "outputs": [],
   "source": [
    "def make_strategy1() -> Callable:\n",
    "    def hardcoded(state: Nim) -> Nimply:\n",
    "        data = cook_status(state)\n",
    "\n",
    "        if (state.rows.sum() % 2 == 0 and state.rows[data[\"longest_row\"]] > 1):\n",
    "            ply = Nimply(data[\"longest_row\"], 2)\n",
    "        else:\n",
    "            ply = Nimply(data[\"longest_row\"], 1)\n",
    "\n",
    "        return ply\n",
    "\n",
    "    return hardcoded"
   ]
  },
  {
   "cell_type": "markdown",
   "metadata": {},
   "source": [
    "Another hard-coded strategy"
   ]
  },
  {
   "cell_type": "code",
   "execution_count": 67,
   "metadata": {},
   "outputs": [],
   "source": [
    "def make_strategy2() -> Callable:\n",
    "    def evolvable(state: Nim) -> Nimply:\n",
    "        data = cook_status(state)\n",
    "\n",
    "        if (data[\"active_rows_number\"] % 2 == 0 and state.rows[data[\"longest_row\"]] > 2):\n",
    "            ply = Nimply(data[\"longest_row\"], state.rows[data[\"longest_row\"]] - 1)\n",
    "        else:\n",
    "            ply = Nimply(data[\"longest_row\"], state.rows[data[\"longest_row\"]])\n",
    "            \n",
    "        return ply\n",
    "\n",
    "    return evolvable"
   ]
  },
  {
   "cell_type": "markdown",
   "metadata": {},
   "source": [
    "An evolvable strategy"
   ]
  },
  {
   "cell_type": "code",
   "execution_count": 314,
   "metadata": {},
   "outputs": [],
   "source": [
    "def make_strategy3(genome: dict) -> Callable:\n",
    "    def evolvable(state: Nim) -> Nimply:\n",
    "        data = cook_status(state)\n",
    "\n",
    "        if random.random() < genome[\"p\"]:\n",
    "            if (data[\"active_rows_number\"] % 2 == 0 and state.rows[data[\"longest_row\"]] > 2):\n",
    "                ply = Nimply(data[\"longest_row\"], state.rows[data[\"longest_row\"]] - 1)\n",
    "            else:\n",
    "                ply = Nimply(data[\"longest_row\"], state.rows[data[\"longest_row\"]])\n",
    "        else:\n",
    "            if (data[\"active_rows_number\"] % 2 == 0 and state.rows[data[\"shortest_row\"]] > 2):\n",
    "                ply = Nimply(data[\"shortest_row\"], state.rows[data[\"shortest_row\"]] - 1)\n",
    "            else:\n",
    "                ply = Nimply(data[\"shortest_row\"], state.rows[data[\"shortest_row\"]])\n",
    "                \n",
    "        return ply\n",
    "\n",
    "    return evolvable"
   ]
  },
  {
   "cell_type": "markdown",
   "metadata": {},
   "source": [
    "Evaluation"
   ]
  },
  {
   "cell_type": "code",
   "execution_count": 315,
   "metadata": {},
   "outputs": [],
   "source": [
    "NUM_MATCHES = 100\n",
    "NIM_SIZE = 10\n",
    "\n",
    "#evaluation with pure_random as the second player\n",
    "def evaluate1(strategy: Callable) -> float:\n",
    "    opponent = (strategy, pure_random)\n",
    "    won = 0\n",
    "\n",
    "    for m in range(NUM_MATCHES):\n",
    "        nim = Nim(NIM_SIZE)\n",
    "        player = 0\n",
    "        while nim:\n",
    "            ply = opponent[player](nim)\n",
    "            nim.nimming(ply)\n",
    "            player = 1 - player\n",
    "        if player == 1:\n",
    "            won += 1\n",
    "    return won / NUM_MATCHES\n",
    "\n",
    "\n",
    "#evaluation with pure_random as the first player\n",
    "def evaluate2(strategy: Callable) -> float:\n",
    "    opponent = (pure_random, strategy)\n",
    "    won = 0\n",
    "\n",
    "    for m in range(NUM_MATCHES):\n",
    "        nim = Nim(NIM_SIZE)\n",
    "        player = 0\n",
    "        while nim:\n",
    "            ply = opponent[player](nim)\n",
    "            nim.nimming(ply)\n",
    "            player = 1 - player\n",
    "        if player == 0:\n",
    "            won += 1\n",
    "    return won / NUM_MATCHES    "
   ]
  },
  {
   "cell_type": "code",
   "execution_count": 321,
   "metadata": {},
   "outputs": [
    {
     "name": "stderr",
     "output_type": "stream",
     "text": [
      "DEBUG:root:first hard-coded strategy vs. pure_random: 0.89\n",
      "DEBUG:root:pure_random vs. first hard-coded strategy: 0.86\n",
      "DEBUG:root:second hard-coded strategy vs. pure_random: 0.9\n",
      "DEBUG:root:pure_random vs. second hard-coded strategy: 0.87\n"
     ]
    }
   ],
   "source": [
    "logging.getLogger().setLevel(logging.DEBUG)\n",
    "\n",
    "#evaluating the first hard-coded strategy\n",
    "logging.debug(f\"first hard-coded strategy vs. pure_random: {evaluate1(make_strategy1())}\")\n",
    "logging.debug(f\"pure_random vs. first hard-coded strategy: {evaluate2(make_strategy1())}\")\n",
    "#evaluating the second hard-coded strategy\n",
    "logging.debug(f\"second hard-coded strategy vs. pure_random: {evaluate1(make_strategy2())}\")\n",
    "logging.debug(f\"pure_random vs. second hard-coded strategy: {evaluate2(make_strategy2())}\")"
   ]
  },
  {
   "cell_type": "code",
   "execution_count": null,
   "metadata": {},
   "outputs": [
    {
     "name": "stderr",
     "output_type": "stream",
     "text": [
      "DEBUG:root:probability of choosing the longest row when playing as the first player: 0.30000000000000004\n",
      "DEBUG:root:probability of choosing the longest row when playing as the second player: 0.30000000000000004\n"
     ]
    }
   ],
   "source": [
    "NUM_GENERATIONS = 30\n",
    "\n",
    "p1 = 0.5\n",
    "oldEval = 0\n",
    "for g in range(NUM_GENERATIONS):\n",
    "    newEval = evaluate1(make_strategy3({\"p\": p1}))\n",
    "    if newEval > oldEval:\n",
    "        p1 += 0.1\n",
    "        if p1 > 1:\n",
    "            p1 = 1\n",
    "        oldEval = newEval\n",
    "    else:\n",
    "        p1 -= 0.1\n",
    "        if p1 < 0:\n",
    "            p1 = 0\n",
    "        oldEval = newEval\n",
    "logging.debug(f\"probability of choosing the longest row when playing as the first player: {p1}\")\n",
    "\n",
    "p2 = 0.5\n",
    "oldEval = 0\n",
    "for g in range(NUM_GENERATIONS):\n",
    "    newEval = evaluate2(make_strategy3({\"p\": p2}))\n",
    "    if newEval > oldEval:\n",
    "        p2 += 0.1\n",
    "        if p2 > 1:\n",
    "            p2 = 1\n",
    "        oldEval = newEval\n",
    "    else:\n",
    "        p2 -= 0.1\n",
    "        if p2 < 0:\n",
    "            p2 = 0\n",
    "        oldEval = newEval\n",
    "logging.debug(f\"probability of choosing the longest row when playing as the second player: {p2}\")"
   ]
  },
  {
   "cell_type": "code",
   "execution_count": null,
   "metadata": {},
   "outputs": [
    {
     "name": "stderr",
     "output_type": "stream",
     "text": [
      "DEBUG:root:evolvable strategy vs. pure_random: 0.81\n",
      "DEBUG:root:pure_random vs. evolvable strategy: 0.91\n"
     ]
    }
   ],
   "source": [
    "#evaluating the evolvable strategy\n",
    "e1 = evaluate1(make_strategy3({\"p\": 0.3}))\n",
    "logging.debug(f\"evolvable strategy vs. pure_random: {e1}\")\n",
    "e2 = evaluate2(make_strategy3({\"p\": 0.3}))\n",
    "logging.debug(f\"pure_random vs. evolvable strategy: {e2}\")"
   ]
  },
  {
   "cell_type": "markdown",
   "metadata": {},
   "source": [
    "Oversimplified matches"
   ]
  },
  {
   "cell_type": "code",
   "execution_count": null,
   "metadata": {},
   "outputs": [
    {
     "name": "stderr",
     "output_type": "stream",
     "text": [
      "DEBUG:root:status: Initial board  -> <1 3 5 7 9 11 13 15 17 19 21>\n",
      "DEBUG:root:status: After player 0 -> <1 3 5 7 9 11 13 15 17 19 20>\n",
      "DEBUG:root:status: After player 1 -> <1 1 5 7 9 11 13 15 17 19 20>\n",
      "DEBUG:root:status: After player 0 -> <1 1 5 7 9 11 13 15 17 19 18>\n",
      "DEBUG:root:status: After player 1 -> <1 1 0 7 9 11 13 15 17 19 18>\n",
      "DEBUG:root:status: After player 0 -> <1 1 0 7 9 11 13 15 17 18 18>\n",
      "DEBUG:root:status: After player 1 -> <1 1 0 7 9 11 5 15 17 18 18>\n",
      "DEBUG:root:status: After player 0 -> <1 1 0 7 9 11 5 15 17 16 18>\n",
      "DEBUG:root:status: After player 1 -> <1 1 0 7 9 11 5 2 17 16 18>\n",
      "DEBUG:root:status: After player 0 -> <1 1 0 7 9 11 5 2 17 16 17>\n",
      "DEBUG:root:status: After player 1 -> <1 1 0 7 2 11 5 2 17 16 17>\n",
      "DEBUG:root:status: After player 0 -> <1 1 0 7 2 11 5 2 16 16 17>\n",
      "DEBUG:root:status: After player 1 -> <1 1 0 7 0 11 5 2 16 16 17>\n",
      "DEBUG:root:status: After player 0 -> <1 1 0 7 0 11 5 2 16 16 15>\n",
      "DEBUG:root:status: After player 1 -> <1 0 0 7 0 11 5 2 16 16 15>\n",
      "DEBUG:root:status: After player 0 -> <1 0 0 7 0 11 5 2 15 16 15>\n",
      "DEBUG:root:status: After player 1 -> <1 0 0 7 0 11 5 1 15 16 15>\n",
      "DEBUG:root:status: After player 0 -> <1 0 0 7 0 11 5 1 15 15 15>\n",
      "DEBUG:root:status: After player 1 -> <1 0 0 7 0 11 5 1 15 15 9>\n",
      "DEBUG:root:status: After player 0 -> <1 0 0 7 0 11 5 1 13 15 9>\n",
      "DEBUG:root:status: After player 1 -> <0 0 0 7 0 11 5 1 13 15 9>\n",
      "DEBUG:root:status: After player 0 -> <0 0 0 7 0 11 5 1 13 14 9>\n",
      "DEBUG:root:status: After player 1 -> <0 0 0 5 0 11 5 1 13 14 9>\n",
      "DEBUG:root:status: After player 0 -> <0 0 0 5 0 11 5 1 13 12 9>\n",
      "DEBUG:root:status: After player 1 -> <0 0 0 5 0 11 5 1 3 12 9>\n",
      "DEBUG:root:status: After player 0 -> <0 0 0 5 0 11 5 1 3 10 9>\n",
      "DEBUG:root:status: After player 1 -> <0 0 0 5 0 11 2 1 3 10 9>\n",
      "DEBUG:root:status: After player 0 -> <0 0 0 5 0 10 2 1 3 10 9>\n",
      "DEBUG:root:status: After player 1 -> <0 0 0 0 0 10 2 1 3 10 9>\n",
      "DEBUG:root:status: After player 0 -> <0 0 0 0 0 9 2 1 3 10 9>\n",
      "DEBUG:root:status: After player 1 -> <0 0 0 0 0 9 0 1 3 10 9>\n",
      "DEBUG:root:status: After player 0 -> <0 0 0 0 0 9 0 1 3 8 9>\n",
      "DEBUG:root:status: After player 1 -> <0 0 0 0 0 9 0 1 3 0 9>\n",
      "DEBUG:root:status: After player 0 -> <0 0 0 0 0 7 0 1 3 0 9>\n",
      "DEBUG:root:status: After player 1 -> <0 0 0 0 0 7 0 1 3 0 3>\n",
      "DEBUG:root:status: After player 0 -> <0 0 0 0 0 5 0 1 3 0 3>\n",
      "DEBUG:root:status: After player 1 -> <0 0 0 0 0 5 0 0 3 0 3>\n",
      "DEBUG:root:status: After player 0 -> <0 0 0 0 0 4 0 0 3 0 3>\n",
      "DEBUG:root:status: After player 1 -> <0 0 0 0 0 4 0 0 0 0 3>\n",
      "DEBUG:root:status: After player 0 -> <0 0 0 0 0 3 0 0 0 0 3>\n",
      "DEBUG:root:status: After player 1 -> <0 0 0 0 0 2 0 0 0 0 3>\n",
      "DEBUG:root:status: After player 0 -> <0 0 0 0 0 2 0 0 0 0 2>\n",
      "DEBUG:root:status: After player 1 -> <0 0 0 0 0 0 0 0 0 0 2>\n",
      "DEBUG:root:status: After player 0 -> <0 0 0 0 0 0 0 0 0 0 0>\n",
      "INFO:root:status: Player 0 won!\n"
     ]
    }
   ],
   "source": [
    "strategy = (make_strategy1(), pure_random)\n",
    "nim = Nim(11)\n",
    "logging.debug(f\"status: Initial board  -> {nim}\")\n",
    "player = 0\n",
    "while nim:\n",
    "    ply = strategy[player](nim)\n",
    "    nim.nimming(ply)\n",
    "    logging.debug(f\"status: After player {player} -> {nim}\")\n",
    "    player = 1 - player\n",
    "winner = 1 - player\n",
    "logging.info(f\"status: Player {winner} won!\")"
   ]
  },
  {
   "cell_type": "code",
   "execution_count": null,
   "metadata": {},
   "outputs": [
    {
     "name": "stderr",
     "output_type": "stream",
     "text": [
      "DEBUG:root:status: Initial board  -> <1 3 5 7 9 11 13 15 17 19 21>\n",
      "DEBUG:root:status: After player 0 -> <0 3 5 7 9 11 13 15 17 19 21>\n",
      "DEBUG:root:status: After player 1 -> <0 3 5 7 9 11 13 15 17 19 19>\n",
      "DEBUG:root:status: After player 0 -> <0 3 5 7 9 11 0 15 17 19 19>\n",
      "DEBUG:root:status: After player 1 -> <0 3 5 7 9 11 0 15 17 18 19>\n",
      "DEBUG:root:status: After player 0 -> <0 3 5 1 9 11 0 15 17 18 19>\n",
      "DEBUG:root:status: After player 1 -> <0 3 5 1 9 11 0 15 17 18 17>\n",
      "DEBUG:root:status: After player 0 -> <0 3 5 1 6 11 0 15 17 18 17>\n",
      "DEBUG:root:status: After player 1 -> <0 3 5 1 6 11 0 15 17 17 17>\n",
      "DEBUG:root:status: After player 0 -> <0 3 0 1 6 11 0 15 17 17 17>\n",
      "DEBUG:root:status: After player 1 -> <0 3 0 1 6 11 0 15 16 17 17>\n",
      "DEBUG:root:status: After player 0 -> <0 0 0 1 6 11 0 15 16 17 17>\n",
      "DEBUG:root:status: After player 1 -> <0 0 0 1 6 11 0 15 16 16 17>\n",
      "DEBUG:root:status: After player 0 -> <0 0 0 1 6 9 0 15 16 16 17>\n",
      "DEBUG:root:status: After player 1 -> <0 0 0 1 6 9 0 15 16 16 15>\n",
      "DEBUG:root:status: After player 0 -> <0 0 0 0 6 9 0 15 16 16 15>\n",
      "DEBUG:root:status: After player 1 -> <0 0 0 0 6 9 0 15 15 16 15>\n",
      "DEBUG:root:status: After player 0 -> <0 0 0 0 6 9 0 15 7 16 15>\n",
      "DEBUG:root:status: After player 1 -> <0 0 0 0 6 9 0 15 7 14 15>\n",
      "DEBUG:root:status: After player 0 -> <0 0 0 0 6 9 0 15 7 14 9>\n",
      "DEBUG:root:status: After player 1 -> <0 0 0 0 6 9 0 13 7 14 9>\n",
      "DEBUG:root:status: After player 0 -> <0 0 0 0 6 9 0 13 3 14 9>\n",
      "DEBUG:root:status: After player 1 -> <0 0 0 0 6 9 0 13 3 12 9>\n",
      "DEBUG:root:status: After player 0 -> <0 0 0 0 6 9 0 13 3 12 5>\n",
      "DEBUG:root:status: After player 1 -> <0 0 0 0 6 9 0 11 3 12 5>\n",
      "DEBUG:root:status: After player 0 -> <0 0 0 0 6 9 0 5 3 12 5>\n",
      "DEBUG:root:status: After player 1 -> <0 0 0 0 6 9 0 5 3 10 5>\n",
      "DEBUG:root:status: After player 0 -> <0 0 0 0 6 9 0 1 3 10 5>\n",
      "DEBUG:root:status: After player 1 -> <0 0 0 0 6 9 0 1 3 8 5>\n",
      "DEBUG:root:status: After player 0 -> <0 0 0 0 0 9 0 1 3 8 5>\n",
      "DEBUG:root:status: After player 1 -> <0 0 0 0 0 7 0 1 3 8 5>\n",
      "DEBUG:root:status: After player 0 -> <0 0 0 0 0 0 0 1 3 8 5>\n",
      "DEBUG:root:status: After player 1 -> <0 0 0 0 0 0 0 1 3 7 5>\n",
      "DEBUG:root:status: After player 0 -> <0 0 0 0 0 0 0 1 3 1 5>\n",
      "DEBUG:root:status: After player 1 -> <0 0 0 0 0 0 0 1 3 1 3>\n",
      "DEBUG:root:status: After player 0 -> <0 0 0 0 0 0 0 1 3 1 1>\n",
      "DEBUG:root:status: After player 1 -> <0 0 0 0 0 0 0 1 1 1 1>\n",
      "DEBUG:root:status: After player 0 -> <0 0 0 0 0 0 0 1 1 0 1>\n",
      "DEBUG:root:status: After player 1 -> <0 0 0 0 0 0 0 0 1 0 1>\n",
      "DEBUG:root:status: After player 0 -> <0 0 0 0 0 0 0 0 1 0 0>\n",
      "DEBUG:root:status: After player 1 -> <0 0 0 0 0 0 0 0 0 0 0>\n",
      "INFO:root:status: Player 1 won!\n"
     ]
    }
   ],
   "source": [
    "strategy = (pure_random, make_strategy1())\n",
    "nim = Nim(11)\n",
    "logging.debug(f\"status: Initial board  -> {nim}\")\n",
    "player = 0\n",
    "while nim:\n",
    "    ply = strategy[player](nim)\n",
    "    nim.nimming(ply)\n",
    "    logging.debug(f\"status: After player {player} -> {nim}\")\n",
    "    player = 1 - player\n",
    "winner = 1 - player\n",
    "logging.info(f\"status: Player {winner} won!\")"
   ]
  },
  {
   "cell_type": "code",
   "execution_count": null,
   "metadata": {},
   "outputs": [
    {
     "name": "stderr",
     "output_type": "stream",
     "text": [
      "DEBUG:root:status: Initial board  -> <1 3 5 7 9 11 13 15 17 19 21>\n",
      "DEBUG:root:status: After player 0 -> <1 3 5 7 9 11 13 15 17 19 0>\n",
      "DEBUG:root:status: After player 1 -> <1 3 5 7 9 11 1 15 17 19 0>\n",
      "DEBUG:root:status: After player 0 -> <1 3 5 7 9 11 1 15 17 1 0>\n",
      "DEBUG:root:status: After player 1 -> <1 2 5 7 9 11 1 15 17 1 0>\n",
      "DEBUG:root:status: After player 0 -> <1 2 5 7 9 11 1 15 1 1 0>\n",
      "DEBUG:root:status: After player 1 -> <1 2 5 7 9 2 1 15 1 1 0>\n",
      "DEBUG:root:status: After player 0 -> <1 2 5 7 9 2 1 1 1 1 0>\n",
      "DEBUG:root:status: After player 1 -> <1 2 5 7 3 2 1 1 1 1 0>\n",
      "DEBUG:root:status: After player 0 -> <1 2 5 1 3 2 1 1 1 1 0>\n",
      "DEBUG:root:status: After player 1 -> <1 2 5 1 3 1 1 1 1 1 0>\n",
      "DEBUG:root:status: After player 0 -> <1 2 1 1 3 1 1 1 1 1 0>\n",
      "DEBUG:root:status: After player 1 -> <1 2 0 1 3 1 1 1 1 1 0>\n",
      "DEBUG:root:status: After player 0 -> <1 2 0 1 0 1 1 1 1 1 0>\n",
      "DEBUG:root:status: After player 1 -> <1 2 0 1 0 1 1 1 1 0 0>\n",
      "DEBUG:root:status: After player 0 -> <1 0 0 1 0 1 1 1 1 0 0>\n",
      "DEBUG:root:status: After player 1 -> <1 0 0 1 0 1 1 0 1 0 0>\n",
      "DEBUG:root:status: After player 0 -> <0 0 0 1 0 1 1 0 1 0 0>\n",
      "DEBUG:root:status: After player 1 -> <0 0 0 0 0 1 1 0 1 0 0>\n",
      "DEBUG:root:status: After player 0 -> <0 0 0 0 0 0 1 0 1 0 0>\n",
      "DEBUG:root:status: After player 1 -> <0 0 0 0 0 0 1 0 0 0 0>\n",
      "DEBUG:root:status: After player 0 -> <0 0 0 0 0 0 0 0 0 0 0>\n",
      "INFO:root:status: Player 0 won!\n"
     ]
    }
   ],
   "source": [
    "strategy = (make_strategy2(), pure_random)\n",
    "nim = Nim(11)\n",
    "logging.debug(f\"status: Initial board  -> {nim}\")\n",
    "player = 0\n",
    "while nim:\n",
    "    ply = strategy[player](nim)\n",
    "    nim.nimming(ply)\n",
    "    logging.debug(f\"status: After player {player} -> {nim}\")\n",
    "    player = 1 - player\n",
    "winner = 1 - player\n",
    "logging.info(f\"status: Player {winner} won!\")"
   ]
  },
  {
   "cell_type": "code",
   "execution_count": null,
   "metadata": {},
   "outputs": [
    {
     "name": "stderr",
     "output_type": "stream",
     "text": [
      "DEBUG:root:status: Initial board  -> <1 3 5 7 9 11 13 15 17 19 21>\n",
      "DEBUG:root:status: After player 0 -> <1 3 5 7 9 11 13 15 17 10 21>\n",
      "DEBUG:root:status: After player 1 -> <1 3 5 7 9 11 13 15 17 10 0>\n",
      "DEBUG:root:status: After player 0 -> <1 3 5 7 9 11 11 15 17 10 0>\n",
      "DEBUG:root:status: After player 1 -> <1 3 5 7 9 11 11 15 1 10 0>\n",
      "DEBUG:root:status: After player 0 -> <1 3 5 7 9 11 7 15 1 10 0>\n",
      "DEBUG:root:status: After player 1 -> <1 3 5 7 9 11 7 1 1 10 0>\n",
      "DEBUG:root:status: After player 0 -> <1 3 5 7 9 11 7 0 1 10 0>\n",
      "DEBUG:root:status: After player 1 -> <1 3 5 7 9 0 7 0 1 10 0>\n",
      "DEBUG:root:status: After player 0 -> <1 3 5 7 6 0 7 0 1 10 0>\n",
      "DEBUG:root:status: After player 1 -> <1 3 5 7 6 0 7 0 1 1 0>\n",
      "DEBUG:root:status: After player 0 -> <1 3 5 7 6 0 7 0 0 1 0>\n",
      "DEBUG:root:status: After player 1 -> <1 3 5 0 6 0 7 0 0 1 0>\n",
      "DEBUG:root:status: After player 0 -> <1 3 3 0 6 0 7 0 0 1 0>\n",
      "DEBUG:root:status: After player 1 -> <1 3 3 0 6 0 1 0 0 1 0>\n",
      "DEBUG:root:status: After player 0 -> <1 3 3 0 6 0 0 0 0 1 0>\n",
      "DEBUG:root:status: After player 1 -> <1 3 3 0 0 0 0 0 0 1 0>\n",
      "DEBUG:root:status: After player 0 -> <1 3 0 0 0 0 0 0 0 1 0>\n",
      "DEBUG:root:status: After player 1 -> <1 0 0 0 0 0 0 0 0 1 0>\n",
      "DEBUG:root:status: After player 0 -> <0 0 0 0 0 0 0 0 0 1 0>\n",
      "DEBUG:root:status: After player 1 -> <0 0 0 0 0 0 0 0 0 0 0>\n",
      "INFO:root:status: Player 1 won!\n"
     ]
    }
   ],
   "source": [
    "strategy = (pure_random, make_strategy2())\n",
    "nim = Nim(11)\n",
    "logging.debug(f\"status: Initial board  -> {nim}\")\n",
    "player = 0\n",
    "while nim:\n",
    "    ply = strategy[player](nim)\n",
    "    nim.nimming(ply)\n",
    "    logging.debug(f\"status: After player {player} -> {nim}\")\n",
    "    player = 1 - player\n",
    "winner = 1 - player\n",
    "logging.info(f\"status: Player {winner} won!\")"
   ]
  },
  {
   "cell_type": "code",
   "execution_count": null,
   "metadata": {},
   "outputs": [
    {
     "name": "stderr",
     "output_type": "stream",
     "text": [
      "DEBUG:root:status: Initial board  -> <1 3 5 7 9 11 13 15 17 19 21>\n",
      "DEBUG:root:status: After player 0 -> <1 3 5 7 9 11 13 15 17 19 0>\n",
      "DEBUG:root:status: After player 1 -> <1 3 5 1 9 11 13 15 17 19 0>\n",
      "DEBUG:root:status: After player 0 -> <0 3 5 1 9 11 13 15 17 19 0>\n",
      "DEBUG:root:status: After player 1 -> <0 3 4 1 9 11 13 15 17 19 0>\n",
      "DEBUG:root:status: After player 0 -> <0 3 4 0 9 11 13 15 17 19 0>\n",
      "DEBUG:root:status: After player 1 -> <0 3 4 0 9 11 5 15 17 19 0>\n",
      "DEBUG:root:status: After player 0 -> <0 1 4 0 9 11 5 15 17 19 0>\n",
      "DEBUG:root:status: After player 1 -> <0 1 4 0 9 11 5 15 10 19 0>\n",
      "DEBUG:root:status: After player 0 -> <0 0 4 0 9 11 5 15 10 19 0>\n",
      "DEBUG:root:status: After player 1 -> <0 0 4 0 9 11 5 15 10 8 0>\n",
      "DEBUG:root:status: After player 0 -> <0 0 0 0 9 11 5 15 10 8 0>\n",
      "DEBUG:root:status: After player 1 -> <0 0 0 0 9 9 5 15 10 8 0>\n",
      "DEBUG:root:status: After player 0 -> <0 0 0 0 9 9 1 15 10 8 0>\n",
      "DEBUG:root:status: After player 1 -> <0 0 0 0 9 9 0 15 10 8 0>\n",
      "DEBUG:root:status: After player 0 -> <0 0 0 0 9 9 0 0 10 8 0>\n",
      "DEBUG:root:status: After player 1 -> <0 0 0 0 9 9 0 0 6 8 0>\n",
      "DEBUG:root:status: After player 0 -> <0 0 0 0 9 9 0 0 1 8 0>\n",
      "DEBUG:root:status: After player 1 -> <0 0 0 0 9 9 0 0 1 2 0>\n",
      "DEBUG:root:status: After player 0 -> <0 0 0 0 9 9 0 0 0 2 0>\n",
      "DEBUG:root:status: After player 1 -> <0 0 0 0 9 6 0 0 0 2 0>\n",
      "DEBUG:root:status: After player 0 -> <0 0 0 0 9 6 0 0 0 0 0>\n",
      "DEBUG:root:status: After player 1 -> <0 0 0 0 0 6 0 0 0 0 0>\n",
      "DEBUG:root:status: After player 0 -> <0 0 0 0 0 0 0 0 0 0 0>\n",
      "INFO:root:status: Player 0 won!\n"
     ]
    }
   ],
   "source": [
    "strategy = (make_strategy3({\"p\": 0.3}), pure_random)\n",
    "nim = Nim(11)\n",
    "logging.debug(f\"status: Initial board  -> {nim}\")\n",
    "player = 0\n",
    "while nim:\n",
    "    ply = strategy[player](nim)\n",
    "    nim.nimming(ply)\n",
    "    logging.debug(f\"status: After player {player} -> {nim}\")\n",
    "    player = 1 - player\n",
    "winner = 1 - player\n",
    "logging.info(f\"status: Player {winner} won!\")"
   ]
  },
  {
   "cell_type": "code",
   "execution_count": null,
   "metadata": {},
   "outputs": [
    {
     "name": "stderr",
     "output_type": "stream",
     "text": [
      "DEBUG:root:status: Initial board  -> <1 3 5 7 9 11 13 15 17 19 21>\n",
      "DEBUG:root:status: After player 0 -> <1 3 5 7 9 11 13 15 17 19 3>\n",
      "DEBUG:root:status: After player 1 -> <0 3 5 7 9 11 13 15 17 19 3>\n",
      "DEBUG:root:status: After player 0 -> <0 3 5 7 9 11 13 15 17 19 0>\n",
      "DEBUG:root:status: After player 1 -> <0 3 5 7 9 11 13 15 17 0 0>\n",
      "DEBUG:root:status: After player 0 -> <0 3 5 7 2 11 13 15 17 0 0>\n",
      "DEBUG:root:status: After player 1 -> <0 3 5 7 2 11 13 15 1 0 0>\n",
      "DEBUG:root:status: After player 0 -> <0 3 5 7 1 11 13 15 1 0 0>\n",
      "DEBUG:root:status: After player 1 -> <0 3 5 7 1 11 13 1 1 0 0>\n",
      "DEBUG:root:status: After player 0 -> <0 3 5 7 1 11 7 1 1 0 0>\n",
      "DEBUG:root:status: After player 1 -> <0 3 5 7 0 11 7 1 1 0 0>\n",
      "DEBUG:root:status: After player 0 -> <0 3 5 7 0 9 7 1 1 0 0>\n",
      "DEBUG:root:status: After player 1 -> <0 3 5 7 0 0 7 1 1 0 0>\n",
      "DEBUG:root:status: After player 0 -> <0 3 4 7 0 0 7 1 1 0 0>\n",
      "DEBUG:root:status: After player 1 -> <0 3 4 7 0 0 7 0 1 0 0>\n",
      "DEBUG:root:status: After player 0 -> <0 3 0 7 0 0 7 0 1 0 0>\n",
      "DEBUG:root:status: After player 1 -> <0 3 0 7 0 0 7 0 0 0 0>\n",
      "DEBUG:root:status: After player 0 -> <0 3 0 1 0 0 7 0 0 0 0>\n",
      "DEBUG:root:status: After player 1 -> <0 3 0 0 0 0 7 0 0 0 0>\n",
      "DEBUG:root:status: After player 0 -> <0 3 0 0 0 0 0 0 0 0 0>\n",
      "DEBUG:root:status: After player 1 -> <0 0 0 0 0 0 0 0 0 0 0>\n",
      "INFO:root:status: Player 1 won!\n"
     ]
    }
   ],
   "source": [
    "strategy = (pure_random, make_strategy3({\"p\": 0.3}))\n",
    "nim = Nim(11)\n",
    "logging.debug(f\"status: Initial board  -> {nim}\")\n",
    "player = 0\n",
    "while nim:\n",
    "    ply = strategy[player](nim)\n",
    "    nim.nimming(ply)\n",
    "    logging.debug(f\"status: After player {player} -> {nim}\")\n",
    "    player = 1 - player\n",
    "winner = 1 - player\n",
    "logging.info(f\"status: Player {winner} won!\")"
   ]
  },
  {
   "cell_type": "markdown",
   "metadata": {},
   "source": [
    "min-max agent"
   ]
  },
  {
   "cell_type": "code",
   "execution_count": 31,
   "metadata": {},
   "outputs": [],
   "source": [
    "def minmax(state: Nim, t, parents: dict):\n",
    "    if not state:\n",
    "        return None, -1\n",
    "    data = cook_status(state)\n",
    "    evaluations = list()\n",
    "    for ply in data[\"possible_moves\"]:\n",
    "        tmp = deepcopy(state)\n",
    "        tmp.nimming(ply)\n",
    "        _, val = minmax(tmp, t + 1, parents)\n",
    "        evaluations.append((ply, -val))\n",
    "        if t + 1 not in parents:\n",
    "            parents[t + 1] = []\n",
    "        parents[t + 1].append(val)\n",
    "        \n",
    "        #alpha-betha pruning\n",
    "        if t > 0 and t in parents and len(parents[t]) > 0:\n",
    "            if t % 2 == 0:\n",
    "                if min(parents[t]) < val:\n",
    "                    break\n",
    "            elif max(parents[t]) > val:\n",
    "                break\n",
    "    parents[t + 1] = []\n",
    "    return max(evaluations, key=lambda k: k[1])"
   ]
  },
  {
   "cell_type": "code",
   "execution_count": 32,
   "metadata": {},
   "outputs": [
    {
     "data": {
      "text/plain": [
       "((2, 3), 1)"
      ]
     },
     "execution_count": 32,
     "metadata": {},
     "output_type": "execute_result"
    }
   ],
   "source": [
    "parents = dict()\n",
    "t = 0\n",
    "minmax(Nim(3), t, parents)"
   ]
  },
  {
   "cell_type": "markdown",
   "metadata": {},
   "source": [
    "Match between min-max agent and the optimal strategy"
   ]
  },
  {
   "cell_type": "code",
   "execution_count": 33,
   "metadata": {},
   "outputs": [
    {
     "name": "stderr",
     "output_type": "stream",
     "text": [
      "DEBUG:root:status: Initial board  -> <1 3 5>\n",
      "DEBUG:root:status: After player 0 -> <1 3 2>\n",
      "DEBUG:root:status: After player 1 -> <1 3 1>\n",
      "DEBUG:root:status: After player 0 -> <1 0 1>\n",
      "DEBUG:root:status: After player 1 -> <0 0 1>\n",
      "DEBUG:root:status: After player 0 -> <0 0 0>\n",
      "INFO:root:status: Player 0 won!\n"
     ]
    }
   ],
   "source": [
    "parents = dict()\n",
    "t = 0\n",
    "strategy = (minmax, optimal_strategy)\n",
    "nim = Nim(3)\n",
    "logging.debug(f\"status: Initial board  -> {nim}\")\n",
    "player = 0\n",
    "while nim:\n",
    "    if(player == 1):\n",
    "        ply = strategy[player](nim)\n",
    "    else:\n",
    "        ply = strategy[player](nim, t, parents)[0]\n",
    "    nim.nimming(ply)\n",
    "    logging.debug(f\"status: After player {player} -> {nim}\")\n",
    "    player = 1 - player\n",
    "winner = 1 - player\n",
    "logging.info(f\"status: Player {winner} won!\")"
   ]
  },
  {
   "attachments": {},
   "cell_type": "markdown",
   "metadata": {},
   "source": [
    "Reinforcement learning agent"
   ]
  },
  {
   "cell_type": "code",
   "execution_count": 15,
   "metadata": {},
   "outputs": [],
   "source": [
    "class Agent:\n",
    "    def __init__(self, nim, alpha, random_factor):\n",
    "        self.state_history = [(tuple(nim.rows), -1)]\n",
    "        self.alpha = alpha\n",
    "        self.random_factor = random_factor\n",
    "        self.G = dict()\n",
    "        self.init_reward(nim)\n",
    "\n",
    "    def init_reward(self, nim):\n",
    "        self.G[tuple(nim.rows)] = np.random.uniform(-1, 0)\n",
    "\n",
    "    def choose_action(self, nim, allowedMoves):\n",
    "        maxG = -10e15\n",
    "        next_move = None\n",
    "        randomN = np.random.random()\n",
    "        if randomN < self.random_factor:\n",
    "            #if the random number is below the random factor, choose a random action\n",
    "            next_move = allowedMoves[np.random.choice(len(allowedMoves))]\n",
    "        else:\n",
    "            #choosing the action having the highest G\n",
    "            for action in allowedMoves:\n",
    "                tmp = deepcopy(nim)\n",
    "                tmp.nimming(action)\n",
    "                new_state = tuple(tmp.rows)\n",
    "                if new_state not in self.G:\n",
    "                    self.G[new_state] = np.random.uniform(-1, 0)\n",
    "                if self.G[new_state] >= maxG:\n",
    "                    next_move = action\n",
    "                    maxG = self.G[new_state]\n",
    "        return next_move\n",
    "\n",
    "    def update_state_history(self, state, reward):\n",
    "        self.state_history.append((state, reward))\n",
    "\n",
    "    def learn(self):\n",
    "        target = 0\n",
    "        for prev, reward in reversed(self.state_history):\n",
    "            if prev not in self.G:\n",
    "                self.G[prev] = np.random.uniform(-1, 0)\n",
    "            self.G[prev] = self.G[prev] + self.alpha * (target - self.G[prev])\n",
    "            target += reward\n",
    "        self.state_history = []\n",
    "        #decreasing the random factor after each episode\n",
    "        self.random_factor -= 0.001"
   ]
  },
  {
   "cell_type": "code",
   "execution_count": 25,
   "metadata": {},
   "outputs": [
    {
     "name": "stderr",
     "output_type": "stream",
     "text": [
      "INFO:root:RL Agent winning rate after 4000 episodes (in last 1000 matches): 0.422\n"
     ]
    }
   ],
   "source": [
    "N = 7\n",
    "nim = Nim(N)\n",
    "agent = Agent(nim, alpha=0.01, random_factor=0.4)\n",
    "won = 0\n",
    "#I use a hard-coded strategy as the RL agent opponent\n",
    "for i in range(5000):\n",
    "    player = 0\n",
    "    while nim:\n",
    "        if(player != 0):\n",
    "            strategy = make_strategy1()\n",
    "            ply = strategy(nim)\n",
    "            nim.nimming(ply)\n",
    "            player = 1 - player\n",
    "        else:\n",
    "            data = cook_status(nim)\n",
    "            action = agent.choose_action(nim, data[\"possible_moves\"])\n",
    "            nim.nimming(action)\n",
    "            newState, reward = nim.get_state_and_reward()\n",
    "            agent.update_state_history(newState, reward)\n",
    "            player = 1 - player\n",
    "    winner = 1 - player\n",
    "    if i >= 4000 and winner == 0:\n",
    "        won += 1\n",
    "    agent.learn()\n",
    "    nim = Nim(N)\n",
    "logging.info(f\"RL Agent winning rate after 4000 episodes (in last 1000 matches): {won/1000}\")"
   ]
  }
 ],
 "metadata": {
  "kernelspec": {
   "display_name": "Python 3.10.4 64-bit",
   "language": "python",
   "name": "python3"
  },
  "language_info": {
   "codemirror_mode": {
    "name": "ipython",
    "version": 3
   },
   "file_extension": ".py",
   "mimetype": "text/x-python",
   "name": "python",
   "nbconvert_exporter": "python",
   "pygments_lexer": "ipython3",
   "version": "3.10.4"
  },
  "orig_nbformat": 4,
  "vscode": {
   "interpreter": {
    "hash": "aee8b7b246df8f9039afb4144a1f6fd8d2ca17a180786b69acc140d282b71a49"
   }
  }
 },
 "nbformat": 4,
 "nbformat_minor": 2
}
